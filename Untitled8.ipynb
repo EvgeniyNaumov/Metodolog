{
  "nbformat": 4,
  "nbformat_minor": 0,
  "metadata": {
    "colab": {
      "provenance": [],
      "authorship_tag": "ABX9TyOUPqgg2dOFA8IFk5P3D+Kc",
      "include_colab_link": true
    },
    "kernelspec": {
      "name": "python3",
      "display_name": "Python 3"
    },
    "language_info": {
      "name": "python"
    }
  },
  "cells": [
    {
      "cell_type": "markdown",
      "metadata": {
        "id": "view-in-github",
        "colab_type": "text"
      },
      "source": [
        "<a href=\"https://colab.research.google.com/github/EvgeniyNaumov/Metodolog/blob/main/Untitled8.ipynb\" target=\"_parent\"><img src=\"https://colab.research.google.com/assets/colab-badge.svg\" alt=\"Open In Colab\"/></a>"
      ]
    },
    {
      "cell_type": "code",
      "execution_count": 4,
      "metadata": {
        "colab": {
          "base_uri": "https://localhost:8080/"
        },
        "id": "S9z6Ry1Eo3Q-",
        "outputId": "5195ad1b-3f5e-4b87-d369-d99fc02d994b"
      },
      "outputs": [
        {
          "output_type": "stream",
          "name": "stdout",
          "text": [
            "Welcome to the Brain Games!\n",
            "May I have your name? fds\n",
            "Hello, fds!\n",
            "Find the smallest common multiple of given numbers.\n",
            "Question: 92 43 16\n",
            "Your answer: 312321\n",
            "'312321' is wrong answer ;(. Correct answer was '15824'.\n",
            "Let's try again, fds!\n"
          ]
        }
      ],
      "source": [
        "import math\n",
        "import random\n",
        "\n",
        "def calculate_lcm(a, b, c):\n",
        "    # Функция для вычисления НОК трех чисел\n",
        "    lcm_ab = a * b // math.gcd(a, b)\n",
        "    lcm_abc = lcm_ab * c // math.gcd(lcm_ab, c)\n",
        "    return lcm_abc\n",
        "\n",
        "def generate_numbers():\n",
        "    # Генерация трех случайных чисел\n",
        "    return [random.randint(1, 100) for _ in range(3)]\n",
        "\n",
        "def play_game():\n",
        "    print(\"Welcome to the Brain Games!\")\n",
        "    name = input(\"May I have your name? \")\n",
        "    print(f\"Hello, {name}!\")\n",
        "    print(\"Find the smallest common multiple of given numbers.\")\n",
        "\n",
        "    correct_answers = 0\n",
        "    total_questions = 3\n",
        "\n",
        "    for _ in range(total_questions):\n",
        "        numbers = generate_numbers()\n",
        "        lcm = calculate_lcm(*numbers)\n",
        "        print(f\"Question: {' '.join(map(str, numbers))}\")\n",
        "        user_answer = int(input(\"Your answer: \"))\n",
        "\n",
        "        if user_answer == lcm:\n",
        "            print(\"Correct!\")\n",
        "            correct_answers += 1\n",
        "        else:\n",
        "            print(f\"'{user_answer}' is wrong answer ;(. Correct answer was '{lcm}'.\")\n",
        "            print(f\"Let's try again, {name}!\")\n",
        "            return\n",
        "\n",
        "    if correct_answers == total_questions:\n",
        "        print(f\"Congratulations, {name}!\")\n",
        "\n",
        "if __name__ == \"__main__\":\n",
        "    play_game()"
      ]
    }
  ]
}